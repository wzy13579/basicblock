{
 "cells": [
  {
   "cell_type": "code",
   "execution_count": null,
   "id": "e305aa84-6e1b-43c8-bb54-8bdd4073e83d",
   "metadata": {},
   "outputs": [],
   "source": [
    "import torch\n",
    "import torch.nn as nn\n",
    "\n",
    "class Basicblock(nn.Module):\n",
    "    expansion = 1\n",
    "    \n",
    "    def __init__(self,in_channel,out_channel,stride = 1,downsample = None):\n",
    "        super(Basicblock,self).__init__()\n",
    "        self.conv1 = nn.Conv1d(in_channels = in_channel,out_channels = out_channel,kernel_size = 3,padding = 1,stride = stride,bias = False)\n",
    "        self.bn1 = nn.BatchNorm1d(out_channel)\n",
    "        self.relu = nn.ReLU()\n",
    "        self.conv2 = nn.Conv1d(in_channels = out_channel,out_channels = out_channel,kernel_size = 3,padding = 1,stride = stride,bias = False)\n",
    "        self.bn2 = nn.BatchNorm1d(out_channel)\n",
    "        self.downsample = downsample\n",
    "\n",
    "    def forward(self,x):\n",
    "        identity = x\n",
    "        if self.downsample is not None:\n",
    "            identity = self.downsample(x)\n",
    "\n",
    "        out = self.conv1(x)\n",
    "        out = self.bn1(out)\n",
    "        out = self.relu(out)\n",
    "        out = self.conv2(out)\n",
    "        out = self.bn2(out)\n",
    "        out += identity\n",
    "        out = self.relu(out)\n",
    "\n",
    "        return out      "
   ]
  },
  {
   "cell_type": "markdown",
   "id": "c4b9e263-99cd-4018-a55e-f1e6996f986b",
   "metadata": {},
   "source": [
    "测试一下"
   ]
  },
  {
   "cell_type": "code",
   "execution_count": 39,
   "id": "634a9769-bba1-4249-9ea1-0564e9f021fc",
   "metadata": {},
   "outputs": [
    {
     "name": "stdout",
     "output_type": "stream",
     "text": [
      "torch.Size([1, 3, 10])\n"
     ]
    }
   ],
   "source": [
    "input_tensor = torch.randn(1, 3, 10)\n",
    "basic_block = Basicblock(in_channel=3, out_channel=3, stride=1)\n",
    "output = basic_block(input_tensor)\n",
    "print(output.shape)"
   ]
  }
 ],
 "metadata": {
  "kernelspec": {
   "display_name": "Python 3 (ipykernel)",
   "language": "python",
   "name": "python3"
  },
  "language_info": {
   "codemirror_mode": {
    "name": "ipython",
    "version": 3
   },
   "file_extension": ".py",
   "mimetype": "text/x-python",
   "name": "python",
   "nbconvert_exporter": "python",
   "pygments_lexer": "ipython3",
   "version": "3.12.4"
  }
 },
 "nbformat": 4,
 "nbformat_minor": 5
}
